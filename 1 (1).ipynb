{
 "cells": [
  {
   "cell_type": "code",
   "execution_count": 3,
   "metadata": {},
   "outputs": [
    {
     "name": "stdout",
     "output_type": "stream",
     "text": [
      "Hello World\n"
     ]
    }
   ],
   "source": [
    "print (\"Hello World\")\n"
   ]
  },
  {
   "cell_type": "code",
   "execution_count": 4,
   "metadata": {},
   "outputs": [
    {
     "name": "stdout",
     "output_type": "stream",
     "text": [
      "3\n"
     ]
    }
   ],
   "source": [
    "print(3)"
   ]
  },
  {
   "cell_type": "code",
   "execution_count": 8,
   "metadata": {},
   "outputs": [
    {
     "name": "stdout",
     "output_type": "stream",
     "text": [
      " /\\ \n"
     ]
    }
   ],
   "source": [
    "print (\"  /\\ \")\n",
    "print (\" /\\ \")"
   ]
  },
  {
   "cell_type": "code",
   "execution_count": 9,
   "metadata": {},
   "outputs": [
    {
     "name": "stdout",
     "output_type": "stream",
     "text": [
      "Su nombre es margarita\n",
      "y su edad es 45 años\n",
      "A ud le gusta su nomre (margarita),\n",
      "pero no su edad,45\n"
     ]
    }
   ],
   "source": [
    "\n",
    "\"\"\"  \n",
    "print (\"Su nombre es margarita\")\n",
    "print (\"y su edad es 45 años\")\n",
    "print (\"A ud le gusta su nomre (margarita),\")\n",
    "print (\"pero no su edad,45\")\n",
    "\"\"\"\n",
    "#Para comentarios cerrados usar \"\"\"\n",
    "print (\"Su nombre es margarita\")\n",
    "print (\"y su edad es 45 años\")\n",
    "print (\"A ud le gusta su nomre (margarita),\")\n",
    "print (\"pero no su edad,45\")"
   ]
  },
  {
   "cell_type": "code",
   "execution_count": 13,
   "metadata": {},
   "outputs": [
    {
     "name": "stdout",
     "output_type": "stream",
     "text": [
      "su nombre es Maria.\n",
      " y su edad es de 30.\n"
     ]
    }
   ],
   "source": [
    "nombre= \" Maria\"   #No asignar valor fijo a la variable sino podr cambiar\n",
    "edad= \"30\"\n",
    "print (\"su nombre es\" + nombre + \".\")\n",
    "print (\"y su edad es de \" + edad + \".\")"
   ]
  },
  {
   "cell_type": "code",
   "execution_count": 14,
   "metadata": {},
   "outputs": [
    {
     "name": "stdout",
     "output_type": "stream",
     "text": [
      "Hoy es lunes\n"
     ]
    }
   ],
   "source": [
    "print (\"Hoy es lunes\")"
   ]
  },
  {
   "cell_type": "code",
   "execution_count": 16,
   "metadata": {},
   "outputs": [
    {
     "name": "stdout",
     "output_type": "stream",
     "text": [
      "Hoy\n",
      "es\n",
      "lunes\n"
     ]
    }
   ],
   "source": [
    "print (\"Hoy\\nes\\nlunes\")"
   ]
  },
  {
   "cell_type": "code",
   "execution_count": 17,
   "metadata": {},
   "outputs": [
    {
     "name": "stdout",
     "output_type": "stream",
     "text": [
      "Hoy\\es\\lunes\n"
     ]
    }
   ],
   "source": [
    "print (\"Hoy\\es\\lunes\")"
   ]
  },
  {
   "cell_type": "code",
   "execution_count": 19,
   "metadata": {},
   "outputs": [
    {
     "name": "stdout",
     "output_type": "stream",
     "text": [
      "ESCRIBAMOS ALGO interesante\n"
     ]
    }
   ],
   "source": [
    "FRASE=\"ESCRIBAMOS ALGO\"\n",
    "print (FRASE + \" interesante\")"
   ]
  },
  {
   "cell_type": "code",
   "execution_count": 20,
   "metadata": {},
   "outputs": [
    {
     "name": "stdout",
     "output_type": "stream",
     "text": [
      "escribamos algointeresante\n"
     ]
    }
   ],
   "source": [
    "print (FRASE.lower()+ \"interesante\")"
   ]
  },
  {
   "cell_type": "code",
   "execution_count": 22,
   "metadata": {},
   "outputs": [
    {
     "name": "stdout",
     "output_type": "stream",
     "text": [
      "Escribamos algo\n"
     ]
    }
   ],
   "source": [
    "print (FRASE.capitalize())"
   ]
  },
  {
   "cell_type": "code",
   "execution_count": 24,
   "metadata": {},
   "outputs": [
    {
     "name": "stdout",
     "output_type": "stream",
     "text": [
      "ESCRIBAMOS ALGO\n"
     ]
    }
   ],
   "source": [
    "print (FRASE)\n"
   ]
  },
  {
   "cell_type": "code",
   "execution_count": 25,
   "metadata": {},
   "outputs": [
    {
     "name": "stdout",
     "output_type": "stream",
     "text": [
      "15\n"
     ]
    }
   ],
   "source": [
    "print(len(FRASE))#CONTAR CARACTERES"
   ]
  },
  {
   "cell_type": "code",
   "execution_count": 27,
   "metadata": {},
   "outputs": [
    {
     "name": "stdout",
     "output_type": "stream",
     "text": [
      "False\n"
     ]
    }
   ],
   "source": [
    "print(FRASE.islower())# fUNCION QUE DICE SI LAS VARIABLES ESTAN EN MAYUSCULA O MINUSCULA"
   ]
  },
  {
   "cell_type": "code",
   "execution_count": 28,
   "metadata": {},
   "outputs": [
    {
     "name": "stdout",
     "output_type": "stream",
     "text": [
      "True\n"
     ]
    }
   ],
   "source": [
    "print (FRASE.lower().islower()) # convertir primero los caracteres y luego usar la funcion para convertir a minusculas."
   ]
  },
  {
   "cell_type": "code",
   "execution_count": 31,
   "metadata": {},
   "outputs": [
    {
     "name": "stdout",
     "output_type": "stream",
     "text": [
      "E\n"
     ]
    }
   ],
   "source": [
    "print (FRASE[0]);#Afectar solamente primer valor de la variable"
   ]
  },
  {
   "cell_type": "code",
   "execution_count": 32,
   "metadata": {},
   "outputs": [
    {
     "name": "stdout",
     "output_type": "stream",
     "text": [
      "e\n"
     ]
    }
   ],
   "source": [
    "print (FRASE[0].lower())"
   ]
  },
  {
   "cell_type": "code",
   "execution_count": 33,
   "metadata": {},
   "outputs": [
    {
     "name": "stdout",
     "output_type": "stream",
     "text": [
      "0\n"
     ]
    }
   ],
   "source": [
    "print (FRASE.index(\"E\"))"
   ]
  },
  {
   "cell_type": "code",
   "execution_count": 35,
   "metadata": {},
   "outputs": [
    {
     "name": "stdout",
     "output_type": "stream",
     "text": [
      "ESCRIBAMOS buu\n"
     ]
    }
   ],
   "source": [
    "print (FRASE.replace(\"ALGO\",\"buu\"))"
   ]
  },
  {
   "cell_type": "code",
   "execution_count": 36,
   "metadata": {},
   "outputs": [
    {
     "name": "stdout",
     "output_type": "stream",
     "text": [
      "15\n"
     ]
    }
   ],
   "source": [
    " print (15)#Python sirve como calculadora"
   ]
  },
  {
   "cell_type": "code",
   "execution_count": 37,
   "metadata": {},
   "outputs": [
    {
     "name": "stdout",
     "output_type": "stream",
     "text": [
      "2.54687\n"
     ]
    }
   ],
   "source": [
    "print (2.54687)"
   ]
  },
  {
   "cell_type": "code",
   "execution_count": 38,
   "metadata": {},
   "outputs": [
    {
     "name": "stdout",
     "output_type": "stream",
     "text": [
      "3\n"
     ]
    }
   ],
   "source": [
    "print(2+5-4)"
   ]
  },
  {
   "cell_type": "code",
   "execution_count": 40,
   "metadata": {},
   "outputs": [
    {
     "name": "stdout",
     "output_type": "stream",
     "text": [
      "21\n"
     ]
    }
   ],
   "source": [
    "print (3*7)"
   ]
  },
  {
   "cell_type": "code",
   "execution_count": 41,
   "metadata": {},
   "outputs": [
    {
     "name": "stdout",
     "output_type": "stream",
     "text": [
      "6.0\n"
     ]
    }
   ],
   "source": [
    "print (36/6)"
   ]
  },
  {
   "cell_type": "code",
   "execution_count": 42,
   "metadata": {},
   "outputs": [
    {
     "name": "stdout",
     "output_type": "stream",
     "text": [
      "1\n"
     ]
    }
   ],
   "source": [
    "print (10%3)  #La funcion modulo muestra el residuo"
   ]
  },
  {
   "cell_type": "code",
   "execution_count": 43,
   "metadata": {},
   "outputs": [
    {
     "name": "stdout",
     "output_type": "stream",
     "text": [
      "0\n"
     ]
    }
   ],
   "source": [
    "print (9%3)"
   ]
  },
  {
   "cell_type": "code",
   "execution_count": 46,
   "metadata": {},
   "outputs": [
    {
     "name": "stdout",
     "output_type": "stream",
     "text": [
      "-2 es mi numero favorito. \n"
     ]
    }
   ],
   "source": [
    "#El manejo de variables string es diferente\n",
    "num = -2\n",
    "print (str(num) + \" es mi numero favorito. \")"
   ]
  },
  {
   "cell_type": "code",
   "execution_count": 47,
   "metadata": {},
   "outputs": [
    {
     "name": "stdout",
     "output_type": "stream",
     "text": [
      "2\n"
     ]
    }
   ],
   "source": [
    "# Utilizar abs para el valor absoluto\n",
    "print(abs(num))"
   ]
  },
  {
   "cell_type": "code",
   "execution_count": 48,
   "metadata": {},
   "outputs": [
    {
     "name": "stdout",
     "output_type": "stream",
     "text": [
      "8\n"
     ]
    }
   ],
   "source": [
    "print(pow(2,3))  # Se utiliza pow para potenciación, primer argumento base, el segundo es el exponente.\n"
   ]
  },
  {
   "cell_type": "code",
   "execution_count": 49,
   "metadata": {},
   "outputs": [
    {
     "name": "stdout",
     "output_type": "stream",
     "text": [
      "2\n"
     ]
    }
   ],
   "source": [
    "# La funcion da el numero maximo entre dos numeros\n",
    "print (max(1,2))"
   ]
  },
  {
   "cell_type": "code",
   "execution_count": 50,
   "metadata": {},
   "outputs": [
    {
     "name": "stdout",
     "output_type": "stream",
     "text": [
      "22\n"
     ]
    }
   ],
   "source": [
    "print (min(22,50)) # La funcion da el numero mainimo entre dos numeros"
   ]
  },
  {
   "cell_type": "code",
   "execution_count": 51,
   "metadata": {},
   "outputs": [
    {
     "name": "stdout",
     "output_type": "stream",
     "text": [
      "4\n"
     ]
    }
   ],
   "source": [
    "print (round(3.756869))  #La funcion around aproxima el numero"
   ]
  },
  {
   "cell_type": "code",
   "execution_count": 52,
   "metadata": {},
   "outputs": [
    {
     "name": "stdout",
     "output_type": "stream",
     "text": [
      "3.25\n"
     ]
    }
   ],
   "source": [
    "print(3.25)"
   ]
  },
  {
   "cell_type": "code",
   "execution_count": 53,
   "metadata": {},
   "outputs": [
    {
     "name": "stdout",
     "output_type": "stream",
     "text": [
      "3\n"
     ]
    }
   ],
   "source": [
    "from math import * # Importar paquetes , el asterisco implica importar todo, cuando se dice from hay que especificar import para decirle que funcion quiero que llame\n",
    "print(floor(3.456)) #Dice cual es el entero por dej¿bajo mas cercano a ese numero "
   ]
  },
  {
   "cell_type": "code",
   "execution_count": 55,
   "metadata": {},
   "outputs": [
    {
     "name": "stdout",
     "output_type": "stream",
     "text": [
      "4\n"
     ]
    }
   ],
   "source": [
    "print(ceil(3.456)) # Calcula el numero por encima, otra funcion similar es int que es similar a lo que hace floor y e ground"
   ]
  },
  {
   "cell_type": "code",
   "execution_count": 56,
   "metadata": {},
   "outputs": [
    {
     "name": "stdout",
     "output_type": "stream",
     "text": [
      "9.0\n"
     ]
    }
   ],
   "source": [
    "print(sqrt(81)) # Define la raiz cuadrada"
   ]
  },
  {
   "cell_type": "code",
   "execution_count": 57,
   "metadata": {},
   "outputs": [
    {
     "name": "stdout",
     "output_type": "stream",
     "text": [
      "6.708203932499369\n"
     ]
    }
   ],
   "source": [
    "print(sqrt(45))"
   ]
  },
  {
   "cell_type": "code",
   "execution_count": 59,
   "metadata": {},
   "outputs": [
    {
     "name": "stdout",
     "output_type": "stream",
     "text": [
      "2.718281828459045\n"
     ]
    }
   ],
   "source": [
    "print(exp(1))"
   ]
  },
  {
   "cell_type": "code",
   "execution_count": 63,
   "metadata": {},
   "outputs": [
    {
     "name": "stdout",
     "output_type": "stream",
     "text": [
      "1\n",
      "8\n",
      "27\n",
      "64\n",
      "125\n"
     ]
    }
   ],
   "source": [
    "# Para crear listas de numeros o nombres, etc\n",
    "lista = [1,2,3,4,5]\n",
    "\n",
    "#Para cada uno de los valores en la lista puedo calcular los valores\n",
    "\n",
    "for x in lista:\n",
    "    print(x**3)   # El espacio antes de print es una indentacion que se debe dejar sino se genera error y se usa ** para elevado o potencia sin usar una funcion"
   ]
  },
  {
   "cell_type": "code",
   "execution_count": 64,
   "metadata": {},
   "outputs": [
    {
     "name": "stdout",
     "output_type": "stream",
     "text": [
      "['a', 'e', 'i', 'o', 'u']\n"
     ]
    }
   ],
   "source": [
    "vocales = [ \"a\", \"e\", \"i\", \"o\", \"u\"]\n",
    "print(vocales)"
   ]
  },
  {
   "cell_type": "code",
   "execution_count": 65,
   "metadata": {},
   "outputs": [
    {
     "name": "stdout",
     "output_type": "stream",
     "text": [
      "['a', 'e', 'i', 'o', 'u']\n"
     ]
    }
   ],
   "source": [
    "print (vocales[:])  # contar desde el primero hasta el uñtimo elemento de la lista"
   ]
  },
  {
   "cell_type": "code",
   "execution_count": 66,
   "metadata": {},
   "outputs": [
    {
     "name": "stdout",
     "output_type": "stream",
     "text": [
      "['e', 'i']\n"
     ]
    }
   ],
   "source": [
    "print (vocales[1:3])"
   ]
  },
  {
   "cell_type": "code",
   "execution_count": 67,
   "metadata": {},
   "outputs": [
    {
     "name": "stdout",
     "output_type": "stream",
     "text": [
      "u\n"
     ]
    }
   ],
   "source": [
    "print (vocales[4])"
   ]
  },
  {
   "cell_type": "code",
   "execution_count": 68,
   "metadata": {},
   "outputs": [
    {
     "name": "stdout",
     "output_type": "stream",
     "text": [
      "a\n"
     ]
    }
   ],
   "source": [
    "print (vocales[-5])"
   ]
  },
  {
   "cell_type": "code",
   "execution_count": 69,
   "metadata": {},
   "outputs": [
    {
     "name": "stdout",
     "output_type": "stream",
     "text": [
      "['e', 'i', 'o', 'u']\n"
     ]
    }
   ],
   "source": [
    "print (vocales[1:])  #Python reconoce desde la linea 1 , con la estructura quemuestre desde el elemento 1 en adelante"
   ]
  },
  {
   "cell_type": "code",
   "execution_count": 70,
   "metadata": {},
   "outputs": [
    {
     "name": "stdout",
     "output_type": "stream",
     "text": [
      "['a', 'e', 'b', 'o', 'u']\n"
     ]
    }
   ],
   "source": [
    "#Redifinir valor para que el elemento 2 ya no sea i sino b\n",
    "vocales[2] = \"b\"\n",
    "print (vocales)"
   ]
  },
  {
   "cell_type": "code",
   "execution_count": 71,
   "metadata": {},
   "outputs": [
    {
     "name": "stdout",
     "output_type": "stream",
     "text": [
      "['a', 'e', 'o', 'u']\n"
     ]
    }
   ],
   "source": [
    "vocales.remove(\"b\") #Quitar un elemento de la LISTA\n",
    "print(vocales)"
   ]
  },
  {
   "cell_type": "code",
   "execution_count": 72,
   "metadata": {},
   "outputs": [
    {
     "name": "stdout",
     "output_type": "stream",
     "text": [
      "['f', 'g']\n"
     ]
    }
   ],
   "source": [
    "otras = [ \"f\",\"g\" ]\n",
    "print(otras)"
   ]
  },
  {
   "cell_type": "code",
   "execution_count": 73,
   "metadata": {},
   "outputs": [
    {
     "name": "stdout",
     "output_type": "stream",
     "text": [
      "['a', 'e', 'o', 'u', 'f', 'g']\n"
     ]
    }
   ],
   "source": [
    "vocales.extend(otras)  #Agregar caracteres a la lista\n",
    "print(vocales)"
   ]
  },
  {
   "cell_type": "code",
   "execution_count": 76,
   "metadata": {},
   "outputs": [
    {
     "name": "stdout",
     "output_type": "stream",
     "text": [
      "['a', 'e', 'o', 'u', 'f', 'g', 'h']\n"
     ]
    }
   ],
   "source": [
    "vocales.append(\"h\")\n",
    "print(vocales)"
   ]
  },
  {
   "cell_type": "code",
   "execution_count": 75,
   "metadata": {},
   "outputs": [
    {
     "name": "stdout",
     "output_type": "stream",
     "text": [
      "['a', 'e', 'o', 'u', 'f', 'g']\n"
     ]
    }
   ],
   "source": [
    "vocales.remove(\"h\")\n",
    "print(vocales)"
   ]
  },
  {
   "cell_type": "code",
   "execution_count": 78,
   "metadata": {},
   "outputs": [
    {
     "name": "stdout",
     "output_type": "stream",
     "text": [
      "['a', 'e', 'i', 'i', 'o', 'u', 'f', 'g', 'h']\n"
     ]
    }
   ],
   "source": [
    "vocales.insert(2,\"i\")\n",
    "print(vocales)"
   ]
  },
  {
   "cell_type": "code",
   "execution_count": 79,
   "metadata": {},
   "outputs": [
    {
     "name": "stdout",
     "output_type": "stream",
     "text": [
      "['a', 'e', 'i', 'i', 'o', 'u', 'j', 'f', 'g', 'h']\n"
     ]
    }
   ],
   "source": [
    "vocales.insert(6,\"j\")\n",
    "print(vocales)"
   ]
  },
  {
   "cell_type": "code",
   "execution_count": 80,
   "metadata": {},
   "outputs": [
    {
     "data": {
      "text/plain": [
       "1"
      ]
     },
     "execution_count": 80,
     "metadata": {},
     "output_type": "execute_result"
    }
   ],
   "source": [
    "vocales.count(\"j\")"
   ]
  },
  {
   "cell_type": "code",
   "execution_count": 81,
   "metadata": {},
   "outputs": [],
   "source": [
    "otras.clear()"
   ]
  },
  {
   "cell_type": "code",
   "execution_count": 82,
   "metadata": {},
   "outputs": [
    {
     "name": "stdout",
     "output_type": "stream",
     "text": [
      "[]\n"
     ]
    }
   ],
   "source": [
    "print(otras)"
   ]
  },
  {
   "cell_type": "code",
   "execution_count": 83,
   "metadata": {},
   "outputs": [
    {
     "ename": "ValueError",
     "evalue": "'r' is not in list",
     "output_type": "error",
     "traceback": [
      "\u001b[0;31m---------------------------------------------------------------------------\u001b[0m",
      "\u001b[0;31mValueError\u001b[0m                                Traceback (most recent call last)",
      "\u001b[0;32m<ipython-input-83-1f61813a7af2>\u001b[0m in \u001b[0;36m<module>\u001b[0;34m\u001b[0m\n\u001b[0;32m----> 1\u001b[0;31m \u001b[0mprint\u001b[0m\u001b[0;34m(\u001b[0m\u001b[0mvocales\u001b[0m\u001b[0;34m.\u001b[0m\u001b[0mindex\u001b[0m\u001b[0;34m(\u001b[0m\u001b[0;34m\"r\"\u001b[0m\u001b[0;34m)\u001b[0m\u001b[0;34m)\u001b[0m\u001b[0;34m\u001b[0m\u001b[0;34m\u001b[0m\u001b[0m\n\u001b[0m",
      "\u001b[0;31mValueError\u001b[0m: 'r' is not in list"
     ]
    }
   ],
   "source": [
    "print(vocales.index(\"r\"))  # Sirve para identificar si en la lista el valor \"r\" esta definido, en este caso se genera error"
   ]
  },
  {
   "cell_type": "code",
   "execution_count": 85,
   "metadata": {},
   "outputs": [
    {
     "name": "stdout",
     "output_type": "stream",
     "text": [
      "[3, 8, 19, 22, 25, 40]\n"
     ]
    }
   ],
   "source": [
    "lucky_numbers = [40,25,3,8,19,22]\n",
    "lucky_numbers.sort()  #Organizar numeros en orden ascendente con la funcio sort\n",
    "print(lucky_numbers)"
   ]
  },
  {
   "cell_type": "code",
   "execution_count": 86,
   "metadata": {},
   "outputs": [
    {
     "name": "stdout",
     "output_type": "stream",
     "text": [
      "[40, 25, 22, 19, 8, 3]\n"
     ]
    }
   ],
   "source": [
    "lucky_numbers.reverse()  #Organizar numeros en orden desendente con la funcio sort\n",
    "print(lucky_numbers)"
   ]
  },
  {
   "cell_type": "code",
   "execution_count": 87,
   "metadata": {},
   "outputs": [],
   "source": [
    "#Definir funciones con def\n",
    "def hola():\n",
    "    print(\"Hola a todos:\")"
   ]
  },
  {
   "cell_type": "code",
   "execution_count": 88,
   "metadata": {},
   "outputs": [
    {
     "name": "stdout",
     "output_type": "stream",
     "text": [
      "Hola a todos:\n"
     ]
    }
   ],
   "source": [
    "hola()  # DEfinir funcion que no requiere de un argumento"
   ]
  },
  {
   "cell_type": "code",
   "execution_count": 90,
   "metadata": {},
   "outputs": [
    {
     "name": "stdout",
     "output_type": "stream",
     "text": [
      " Hola Ricardo1\n"
     ]
    }
   ],
   "source": [
    "# Se pueden pasar variables a las funciones\n",
    "def hola_amigo(nombre):   #Definir funcion que si requiere de un argumento\n",
    "    print(\" Hola \" + nombre +  \"!\")\n",
    "    \n",
    "hola_amigo(\"Ricardo\")    #Definir que valor voy a pasar por la funcion "
   ]
  },
  {
   "cell_type": "code",
   "execution_count": 91,
   "metadata": {},
   "outputs": [
    {
     "name": "stdout",
     "output_type": "stream",
     "text": [
      "Hola a todos:\n"
     ]
    }
   ],
   "source": [
    "hola()"
   ]
  },
  {
   "cell_type": "code",
   "execution_count": 92,
   "metadata": {},
   "outputs": [
    {
     "name": "stdout",
     "output_type": "stream",
     "text": [
      " Hola argumento1\n"
     ]
    }
   ],
   "source": [
    "hola_amigo(\"argumento\")"
   ]
  },
  {
   "cell_type": "code",
   "execution_count": 93,
   "metadata": {},
   "outputs": [],
   "source": [
    "#Definir funcion que requiera de un argumento\n",
    "def cubo (num):\n",
    "    return num*num*num   #se usa return para que de como saluda la funcion definida, para no tener que imprimir uno por uno, yo decido despues si quiero mostrarlo o no con print"
   ]
  },
  {
   "cell_type": "code",
   "execution_count": 94,
   "metadata": {},
   "outputs": [
    {
     "name": "stdout",
     "output_type": "stream",
     "text": [
      "27\n"
     ]
    }
   ],
   "source": [
    "print(cubo(3))"
   ]
  },
  {
   "cell_type": "code",
   "execution_count": 95,
   "metadata": {},
   "outputs": [
    {
     "name": "stdout",
     "output_type": "stream",
     "text": [
      "64\n"
     ]
    }
   ],
   "source": [
    "resultado = cubo (4)  # La funcion ya esta definida arriba y no va a cambiar con el argumento que se use, como en este caso que defino guardar el resultado de la funcion cubo para 4 en una variable resultado.\n",
    "print (resultado)"
   ]
  },
  {
   "cell_type": "code",
   "execution_count": 97,
   "metadata": {},
   "outputs": [
    {
     "name": "stdout",
     "output_type": "stream",
     "text": [
      "3.141592653589793\n"
     ]
    }
   ],
   "source": [
    "import sys  # sistema operativo, tiempos de ejecucion y ciertas tareas definidas por python\n",
    "import os   # Trae tareas de afuera del sistema operativo\n",
    "import math \n",
    "print(math.pi)"
   ]
  },
  {
   "cell_type": "code",
   "execution_count": 99,
   "metadata": {},
   "outputs": [
    {
     "name": "stdout",
     "output_type": "stream",
     "text": [
      "2.718281828459045\n"
     ]
    }
   ],
   "source": [
    "print (math.e)"
   ]
  },
  {
   "cell_type": "code",
   "execution_count": 101,
   "metadata": {},
   "outputs": [
    {
     "name": "stdout",
     "output_type": "stream",
     "text": [
      "8\n"
     ]
    }
   ],
   "source": [
    "import statistics                       # Importar libreria de estadistica\n",
    "print(statistics.median([1,5,8,49,75]))    #Calcula la mediana"
   ]
  },
  {
   "cell_type": "code",
   "execution_count": 102,
   "metadata": {},
   "outputs": [
    {
     "name": "stdout",
     "output_type": "stream",
     "text": [
      "9\n"
     ]
    }
   ],
   "source": [
    "print(statistics.mode([1,2,2,9,5,8,9,9]))   #Calcula la moda"
   ]
  },
  {
   "cell_type": "code",
   "execution_count": 103,
   "metadata": {},
   "outputs": [
    {
     "name": "stdout",
     "output_type": "stream",
     "text": [
      "3.543101950067402\n"
     ]
    }
   ],
   "source": [
    "print(statistics.stdev([1,2,2,9,5,8,9,9])) #Calcula la desviacion estandar de la distribucion"
   ]
  },
  {
   "cell_type": "code",
   "execution_count": 108,
   "metadata": {},
   "outputs": [
    {
     "name": "stdout",
     "output_type": "stream",
     "text": [
      "0.5487178516272017\n"
     ]
    }
   ],
   "source": [
    "import random   # genera un numero entre cero y uno \n",
    "\n",
    "print(random.random())"
   ]
  },
  {
   "cell_type": "code",
   "execution_count": 110,
   "metadata": {},
   "outputs": [
    {
     "name": "stdout",
     "output_type": "stream",
     "text": [
      "1\n"
     ]
    }
   ],
   "source": [
    "print (random.randint(1,100))  # generar numero aleatorio entero"
   ]
  },
  {
   "cell_type": "code",
   "execution_count": 119,
   "metadata": {},
   "outputs": [
    {
     "name": "stdout",
     "output_type": "stream",
     "text": [
      "b\n"
     ]
    }
   ],
   "source": [
    "print(random.choice(\"escribir\"))  #Toma uno de los caracteres y lo saca aleatoriamente"
   ]
  },
  {
   "cell_type": "code",
   "execution_count": 120,
   "metadata": {},
   "outputs": [
    {
     "name": "stdout",
     "output_type": "stream",
     "text": [
      "25\n"
     ]
    }
   ],
   "source": [
    "print(random.choice([40,25,3,8,19,22]))  #sacar un numero de forma aleatoria de ese conjunto de numeros [40,25,3,8,19,22]"
   ]
  },
  {
   "cell_type": "code",
   "execution_count": 123,
   "metadata": {},
   "outputs": [
    {
     "name": "stdout",
     "output_type": "stream",
     "text": [
      "19\n"
     ]
    }
   ],
   "source": [
    "print(random.choice(lucky_numbers))  #sacar un numero de forma aleatoria de una variable anteriormente definida como ua lista"
   ]
  },
  {
   "cell_type": "code",
   "execution_count": 125,
   "metadata": {},
   "outputs": [
    {
     "name": "stdout",
     "output_type": "stream",
     "text": [
      "[22, 3, 40, 8, 19, 25]\n"
     ]
    }
   ],
   "source": [
    "random.shuffle(lucky_numbers) #Desordenar de forma aleatoria los elementos de una lista definida en la variable luckynumbers\n",
    "print(lucky_numbers)"
   ]
  },
  {
   "cell_type": "code",
   "execution_count": 127,
   "metadata": {},
   "outputs": [
    {
     "name": "stdout",
     "output_type": "stream",
     "text": [
      "[[0 1 2 3 4]\n",
      " [5 6 7 8 9]]\n"
     ]
    }
   ],
   "source": [
    "import numpy as np    #libreria para crear arreglos y darle un alias usando as np (importemelo como np)\n",
    "a = np.arange(10).reshape(2,5)   #Que tenga dos lineas y cinco columnas, reshape actua sobre el arreglo que he creado\n",
    "print(a)"
   ]
  },
  {
   "cell_type": "code",
   "execution_count": 128,
   "metadata": {},
   "outputs": [
    {
     "name": "stdout",
     "output_type": "stream",
     "text": [
      "['lunes' 'martes' ' miercoles' 'jueves' 'viernes']\n"
     ]
    }
   ],
   "source": [
    "c = np.array([\"lunes\", \"martes\", \" miercoles\", \"jueves\", \"viernes\"])    # si anteriormente no dimos el alias (np) tendria que llamar todo el paquete\n",
    "print(c)"
   ]
  },
  {
   "cell_type": "code",
   "execution_count": 135,
   "metadata": {},
   "outputs": [],
   "source": [
    "# crear archivo con los dias\n",
    "\n",
    "\n",
    "dias = open(\"dias_de_la_semana.txt\", \"w\") #pathpara poner la direccion donde quiero que se guarde el archivo exactamente en mi computador se pondria asi: dias = open(path ()\"dias_de_la_semana.txt\")\n",
    "titulo = \" Dias de la semana laboral\\n\"\n",
    "\n",
    "dias.write(titulo)\n",
    "dias.write(\"lunes\\n\")\n",
    "dias.write(\"Martes\\n\")\n",
    "dias.write(\"Miercoles\\n\")\n",
    "dias.write(\"Jueves\\n\")\n",
    "dias.write(\"Viernes\\n\")\n",
    "\n",
    "dias.close()"
   ]
  },
  {
   "cell_type": "code",
   "execution_count": 138,
   "metadata": {},
   "outputs": [
    {
     "name": "stdout",
     "output_type": "stream",
     "text": [
      " Dias de la semana laboral\n",
      "lunes\n",
      "Martes\n",
      "Miercoles\n",
      "Jueves\n",
      "Viernes\n"
     ]
    }
   ],
   "source": [
    "with open(\"dias_de_la_semana.txt\",\"r\") as reader:\n",
    "       for line in reader.readlines():     # para cada linea en la funcion se va a imprimir\n",
    "        print(line,end=\"\")"
   ]
  },
  {
   "cell_type": "code",
   "execution_count": null,
   "metadata": {},
   "outputs": [],
   "source": [
    "# Crear un archivo con informacion personal"
   ]
  }
 ],
 "metadata": {
  "kernelspec": {
   "display_name": "Python 3",
   "language": "python",
   "name": "python3"
  },
  "language_info": {
   "codemirror_mode": {
    "name": "ipython",
    "version": 3
   },
   "file_extension": ".py",
   "mimetype": "text/x-python",
   "name": "python",
   "nbconvert_exporter": "python",
   "pygments_lexer": "ipython3",
   "version": "3.6.7"
  }
 },
 "nbformat": 4,
 "nbformat_minor": 2
}
